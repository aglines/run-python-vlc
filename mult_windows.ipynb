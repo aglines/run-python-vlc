{
 "cells": [
  {
   "cell_type": "code",
   "execution_count": 2,
   "metadata": {},
   "outputs": [],
   "source": [
    "import PySimpleGUI as sg\n",
    "import vlc\n",
    "from time import sleep\n",
    "import os\n",
    "from sys import platform\n",
    "\n",
    "#----------- TEST DATA -----------#\n",
    "import test_data\n",
    "song1_path = os.path.join(test_data.media_path, 'test1.mp4')\n",
    "song2_path = os.path.join(test_data.media_path, 'test2.mp4')\n",
    "\n",
    "#----------- GUI -----------#\n",
    "\n",
    "\n",
    "window1 = sg.Window('1one1', [[sg.T('Win1',size=(30,10),key='-T-')],[sg.B('Exit')]], finalize=True)\n",
    "window2 = sg.Window('2two2', [[sg.T('Win2',size=(30,10),key='-T-')],[sg.B('Exit')]], finalize=True,\n",
    "                    location=(window1.current_location()[0]-250,window1.current_location()[1]))\n",
    "\n",
    "i, paused = 0, [False, False]\n",
    "\n",
    "while True:\n",
    "    window, event, values = sg.read_all_windows(timeout=10)\n",
    "    if window == sg.WIN_CLOSED and event == sg.WIN_CLOSED:\n",
    "        window1.close()\n",
    "        window2.close() \n",
    "        sg.popup_auto_close('windows closing')\n",
    "        break\n",
    "    if event in (sg.WINDOW_CLOSED, 'Exit'):\n",
    "        window.close()\n",
    "    \n",
    "           \n",
    "          \n",
    "\n",
    "\n",
    "\n",
    "\n",
    "\n"
   ]
  }
 ],
 "metadata": {
  "kernelspec": {
   "display_name": "venv",
   "language": "python",
   "name": "python3"
  },
  "language_info": {
   "codemirror_mode": {
    "name": "ipython",
    "version": 3
   },
   "file_extension": ".py",
   "mimetype": "text/x-python",
   "name": "python",
   "nbconvert_exporter": "python",
   "pygments_lexer": "ipython3",
   "version": "3.11.3"
  },
  "orig_nbformat": 4
 },
 "nbformat": 4,
 "nbformat_minor": 2
}
