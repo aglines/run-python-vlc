{
 "cells": [
  {
   "cell_type": "code",
   "execution_count": 7,
   "metadata": {},
   "outputs": [],
   "source": [
    "import vlc\n",
    "from time import sleep\n",
    "import os\n",
    "\n",
    "import test_data\n",
    "\n",
    "# determine file to be played\n",
    "song = 'test1.mp4'\n",
    "song_path = os.path.join(test_data.media_path, song)\n",
    "\n",
    "# create vlc media player object\n",
    "try:\n",
    "    media = vlc.MediaPlayer(song_path)\n",
    "\n",
    "# set window handle before calling play, in order to control vlc window\n",
    "    media.set_hwnd(0)\n",
    "    media.play()\n",
    "    sleep(1)\n",
    "    media.pause()\n",
    "    sleep(0.5)\n",
    "    media.play()\n",
    "    # try:\n",
    "    #     media.close(0)\n",
    "    # finally: \n",
    "    #     print('media closed')\n",
    "\n",
    "except:\n",
    "    print('unknown exception occurred')\n"
   ]
  }
 ],
 "metadata": {
  "kernelspec": {
   "display_name": "venv",
   "language": "python",
   "name": "python3"
  },
  "language_info": {
   "codemirror_mode": {
    "name": "ipython",
    "version": 3
   },
   "file_extension": ".py",
   "mimetype": "text/x-python",
   "name": "python",
   "nbconvert_exporter": "python",
   "pygments_lexer": "ipython3",
   "version": "3.11.3"
  },
  "orig_nbformat": 4
 },
 "nbformat": 4,
 "nbformat_minor": 2
}
