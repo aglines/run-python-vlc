{
 "cells": [
  {
   "cell_type": "code",
   "execution_count": 3,
   "metadata": {},
   "outputs": [],
   "source": [
    "import PySimpleGUI as sg\n",
    "import vlc\n",
    "from time import sleep\n",
    "import os\n",
    "from sys import platform\n",
    "\n",
    "#-------- TEST DATA --------#\n",
    "import test_data\n",
    "song = 'test1.mp4'\n",
    "song_path = os.path.join(test_data.media_path, song)\n",
    "\n",
    "#-------- GUI SETUP --------#\n",
    "sg.theme('Black')\n",
    "\n",
    "# define button appearance\n",
    "def btn(name):\n",
    "    return sg.Button(name, size=(6,1), pad=(1,1))\n",
    "\n",
    "layout = [[sg.Image('', size=(300,170), key='testWindow')],\n",
    "          [btn('play'), btn('pause'), btn('stop'), btn('exit')],\n",
    "          [sg.Text('VLC test', key='message area')]\n",
    "          ]\n",
    "\n",
    "window = sg.Window('title text', layout, resizable=True, finalize=True)\n",
    "window['testWindow'].expand(True, True)\n",
    "\n",
    "#-------- MEDIA PLAYER SETUP --------#\n",
    "instance = vlc.Instance()\n",
    "player = instance.media_player_new()\n",
    "media = instance.media_new(song_path)\n",
    "player.set_hwnd(window['testWindow'].Widget.winfo_id())\n",
    "\n",
    "#-------- MAIN LOOP --------#\n",
    "while True:\n",
    "    event, values = window.read(timeout=1000)\n",
    "    if event == sg.WIN_CLOSED or event == 'exit':\n",
    "        break\n",
    "    if event == 'play':\n",
    "        player.set_media(media)\n",
    "        player.play()\n",
    "    if event == 'pause':\n",
    "        player.pause()\n",
    "    if event == 'stop':\n",
    "        player.stop()\n",
    "\n",
    "    if player.is_playing():\n",
    "        window['message area'].update('playing')\n",
    "window.close()\n",
    "\n"
   ]
  }
 ],
 "metadata": {
  "kernelspec": {
   "display_name": "venv",
   "language": "python",
   "name": "python3"
  },
  "language_info": {
   "codemirror_mode": {
    "name": "ipython",
    "version": 3
   },
   "file_extension": ".py",
   "mimetype": "text/x-python",
   "name": "python",
   "nbconvert_exporter": "python",
   "pygments_lexer": "ipython3",
   "version": "3.11.3"
  },
  "orig_nbformat": 4
 },
 "nbformat": 4,
 "nbformat_minor": 2
}
