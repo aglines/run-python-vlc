{
 "cells": [
  {
   "cell_type": "code",
   "execution_count": 1,
   "metadata": {},
   "outputs": [],
   "source": [
    "\n",
    "import vlc\n",
    "from pathlib import Path\n",
    "import time\n",
    "import test_data\n",
    "\n",
    "media = test_data.media_path\n",
    "\n",
    "def create_media_list(vlc_instance, filenames):\n",
    "    media_list = vlc_instance.media_list_new()\n",
    "    for f in filenames:\n",
    "        media_list.add_media(f)\n",
    "    return media_list\n",
    "\n",
    "\n",
    "filenames = list(Path(media).iterdir())\n",
    "\n",
    "instance = vlc.Instance()\n",
    "player = instance.media_list_player_new()\n",
    "\n",
    "media_list = create_media_list(instance, filenames)\n",
    "player.set_media_list(media_list)\n",
    "player.play()\n",
    "\n",
    "while player.is_playing():\n",
    "    time.sleep(1)\n"
   ]
  }
 ],
 "metadata": {
  "kernelspec": {
   "display_name": "venv",
   "language": "python",
   "name": "python3"
  },
  "language_info": {
   "codemirror_mode": {
    "name": "ipython",
    "version": 3
   },
   "file_extension": ".py",
   "mimetype": "text/x-python",
   "name": "python",
   "nbconvert_exporter": "python",
   "pygments_lexer": "ipython3",
   "version": "3.11.3"
  },
  "orig_nbformat": 4
 },
 "nbformat": 4,
 "nbformat_minor": 2
}
